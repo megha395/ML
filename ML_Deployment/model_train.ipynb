{
 "cells": [
  {
   "cell_type": "markdown",
   "metadata": {},
   "source": [
    "Libraries Import"
   ]
  },
  {
   "cell_type": "code",
   "execution_count": 1,
   "metadata": {},
   "outputs": [],
   "source": [
    "import joblib\n",
    "import pandas as pd\n",
    "from sklearn.ensemble import RandomForestRegressor\n",
    "from sklearn.metrics import mean_absolute_error"
   ]
  },
  {
   "cell_type": "markdown",
   "metadata": {},
   "source": [
    "Loading Data"
   ]
  },
  {
   "cell_type": "code",
   "execution_count": 2,
   "metadata": {},
   "outputs": [],
   "source": [
    "train_df = pd.read_csv(\"abalone_train.csv\",\n",
    "                       names=['age', 'length', 'diameter', 'height',\n",
    "                                'whole_weight', 'shucked_weight', 'viscera_weight',\n",
    "                                'shell_weight', 'sex_I', 'sex_M'])\n",
    "valid_df = pd.read_csv(\"abalone_validation.csv\", names=[\n",
    "    'age', 'length', 'diameter', 'height',\n",
    "                                'whole_weight', 'shucked_weight', 'viscera_weight',\n",
    "                                'shell_weight', 'sex_I', 'sex_M'\n",
    "])"
   ]
  },
  {
   "cell_type": "code",
   "execution_count": 3,
   "metadata": {},
   "outputs": [
    {
     "name": "stdout",
     "output_type": "stream",
     "text": [
      "Train data:\n"
     ]
    },
    {
     "data": {
      "text/html": [
       "<div>\n",
       "<style scoped>\n",
       "    .dataframe tbody tr th:only-of-type {\n",
       "        vertical-align: middle;\n",
       "    }\n",
       "\n",
       "    .dataframe tbody tr th {\n",
       "        vertical-align: top;\n",
       "    }\n",
       "\n",
       "    .dataframe thead th {\n",
       "        text-align: right;\n",
       "    }\n",
       "</style>\n",
       "<table border=\"1\" class=\"dataframe\">\n",
       "  <thead>\n",
       "    <tr style=\"text-align: right;\">\n",
       "      <th></th>\n",
       "      <th>age</th>\n",
       "      <th>length</th>\n",
       "      <th>diameter</th>\n",
       "      <th>height</th>\n",
       "      <th>whole_weight</th>\n",
       "      <th>shucked_weight</th>\n",
       "      <th>viscera_weight</th>\n",
       "      <th>shell_weight</th>\n",
       "      <th>sex_I</th>\n",
       "      <th>sex_M</th>\n",
       "    </tr>\n",
       "  </thead>\n",
       "  <tbody>\n",
       "    <tr>\n",
       "      <th>0</th>\n",
       "      <td>6</td>\n",
       "      <td>0.240</td>\n",
       "      <td>0.170</td>\n",
       "      <td>0.050</td>\n",
       "      <td>0.0545</td>\n",
       "      <td>0.0205</td>\n",
       "      <td>0.016</td>\n",
       "      <td>0.0155</td>\n",
       "      <td>1</td>\n",
       "      <td>0</td>\n",
       "    </tr>\n",
       "    <tr>\n",
       "      <th>1</th>\n",
       "      <td>11</td>\n",
       "      <td>0.585</td>\n",
       "      <td>0.470</td>\n",
       "      <td>0.165</td>\n",
       "      <td>1.4090</td>\n",
       "      <td>0.8000</td>\n",
       "      <td>0.229</td>\n",
       "      <td>0.2950</td>\n",
       "      <td>0</td>\n",
       "      <td>1</td>\n",
       "    </tr>\n",
       "    <tr>\n",
       "      <th>2</th>\n",
       "      <td>10</td>\n",
       "      <td>0.435</td>\n",
       "      <td>0.335</td>\n",
       "      <td>0.110</td>\n",
       "      <td>0.3800</td>\n",
       "      <td>0.1695</td>\n",
       "      <td>0.086</td>\n",
       "      <td>0.1100</td>\n",
       "      <td>0</td>\n",
       "      <td>0</td>\n",
       "    </tr>\n",
       "  </tbody>\n",
       "</table>\n",
       "</div>"
      ],
      "text/plain": [
       "   age  length  diameter  height  whole_weight  shucked_weight  \\\n",
       "0    6   0.240     0.170   0.050        0.0545          0.0205   \n",
       "1   11   0.585     0.470   0.165        1.4090          0.8000   \n",
       "2   10   0.435     0.335   0.110        0.3800          0.1695   \n",
       "\n",
       "   viscera_weight  shell_weight  sex_I  sex_M  \n",
       "0           0.016        0.0155      1      0  \n",
       "1           0.229        0.2950      0      1  \n",
       "2           0.086        0.1100      0      0  "
      ]
     },
     "metadata": {},
     "output_type": "display_data"
    },
    {
     "name": "stdout",
     "output_type": "stream",
     "text": [
      "Validation data: \n"
     ]
    },
    {
     "data": {
      "text/html": [
       "<div>\n",
       "<style scoped>\n",
       "    .dataframe tbody tr th:only-of-type {\n",
       "        vertical-align: middle;\n",
       "    }\n",
       "\n",
       "    .dataframe tbody tr th {\n",
       "        vertical-align: top;\n",
       "    }\n",
       "\n",
       "    .dataframe thead th {\n",
       "        text-align: right;\n",
       "    }\n",
       "</style>\n",
       "<table border=\"1\" class=\"dataframe\">\n",
       "  <thead>\n",
       "    <tr style=\"text-align: right;\">\n",
       "      <th></th>\n",
       "      <th>age</th>\n",
       "      <th>length</th>\n",
       "      <th>diameter</th>\n",
       "      <th>height</th>\n",
       "      <th>whole_weight</th>\n",
       "      <th>shucked_weight</th>\n",
       "      <th>viscera_weight</th>\n",
       "      <th>shell_weight</th>\n",
       "      <th>sex_I</th>\n",
       "      <th>sex_M</th>\n",
       "    </tr>\n",
       "  </thead>\n",
       "  <tbody>\n",
       "    <tr>\n",
       "      <th>0</th>\n",
       "      <td>10</td>\n",
       "      <td>0.410</td>\n",
       "      <td>0.325</td>\n",
       "      <td>0.100</td>\n",
       "      <td>0.3555</td>\n",
       "      <td>0.1460</td>\n",
       "      <td>0.072</td>\n",
       "      <td>0.105</td>\n",
       "      <td>0</td>\n",
       "      <td>1</td>\n",
       "    </tr>\n",
       "    <tr>\n",
       "      <th>1</th>\n",
       "      <td>11</td>\n",
       "      <td>0.625</td>\n",
       "      <td>0.480</td>\n",
       "      <td>0.175</td>\n",
       "      <td>1.0650</td>\n",
       "      <td>0.4865</td>\n",
       "      <td>0.259</td>\n",
       "      <td>0.285</td>\n",
       "      <td>0</td>\n",
       "      <td>1</td>\n",
       "    </tr>\n",
       "    <tr>\n",
       "      <th>2</th>\n",
       "      <td>8</td>\n",
       "      <td>0.410</td>\n",
       "      <td>0.335</td>\n",
       "      <td>0.105</td>\n",
       "      <td>0.3305</td>\n",
       "      <td>0.1405</td>\n",
       "      <td>0.064</td>\n",
       "      <td>0.105</td>\n",
       "      <td>1</td>\n",
       "      <td>0</td>\n",
       "    </tr>\n",
       "  </tbody>\n",
       "</table>\n",
       "</div>"
      ],
      "text/plain": [
       "   age  length  diameter  height  whole_weight  shucked_weight  \\\n",
       "0   10   0.410     0.325   0.100        0.3555          0.1460   \n",
       "1   11   0.625     0.480   0.175        1.0650          0.4865   \n",
       "2    8   0.410     0.335   0.105        0.3305          0.1405   \n",
       "\n",
       "   viscera_weight  shell_weight  sex_I  sex_M  \n",
       "0           0.072         0.105      0      1  \n",
       "1           0.259         0.285      0      1  \n",
       "2           0.064         0.105      1      0  "
      ]
     },
     "metadata": {},
     "output_type": "display_data"
    }
   ],
   "source": [
    "print(f\"Train data:\")\n",
    "display(train_df.head(3))\n",
    "print(f\"Validation data: \")\n",
    "display(valid_df.head(3))"
   ]
  },
  {
   "cell_type": "markdown",
   "metadata": {},
   "source": [
    "Model Training"
   ]
  },
  {
   "cell_type": "code",
   "execution_count": 4,
   "metadata": {},
   "outputs": [],
   "source": [
    "model = RandomForestRegressor(n_estimators=100, \n",
    "                              random_state=123).fit(train_df.drop(\n",
    "                                columns='age'), train_df['age'])\n",
    "predicted_age = model.predict(valid_df.drop(columns='age'))\n",
    "# print(predicted_age)"
   ]
  },
  {
   "cell_type": "code",
   "execution_count": 5,
   "metadata": {},
   "outputs": [
    {
     "data": {
      "text/plain": [
       "1.5182535885167463"
      ]
     },
     "execution_count": 5,
     "metadata": {},
     "output_type": "execute_result"
    }
   ],
   "source": [
    "mae = mean_absolute_error(predicted_age, valid_df['age'])\n",
    "mae"
   ]
  },
  {
   "cell_type": "markdown",
   "metadata": {},
   "source": [
    "Using only the features ['age', 'length', 'diameter', 'height']:"
   ]
  },
  {
   "cell_type": "code",
   "execution_count": 6,
   "metadata": {},
   "outputs": [
    {
     "data": {
      "text/plain": [
       "1.8824284290271134"
      ]
     },
     "execution_count": 6,
     "metadata": {},
     "output_type": "execute_result"
    }
   ],
   "source": [
    "features = ['length', 'diameter', 'height', 'whole_weight']\n",
    "model = RandomForestRegressor(n_estimators=100, random_state=123).fit(train_df[features],\n",
    "                                                                      train_df['age'])\n",
    "predicted_age = model.predict(valid_df[features])\n",
    "mae = mean_absolute_error(predicted_age, valid_df['age'])\n",
    "mae"
   ]
  },
  {
   "cell_type": "markdown",
   "metadata": {},
   "source": [
    "Re-fit model on full dataset and save the model"
   ]
  },
  {
   "cell_type": "code",
   "execution_count": 7,
   "metadata": {},
   "outputs": [],
   "source": [
    "features = ['length', 'diameter', 'height', 'whole_weight']"
   ]
  },
  {
   "cell_type": "code",
   "execution_count": 8,
   "metadata": {},
   "outputs": [],
   "source": [
    "full_X = pd.concat((train_df[features], valid_df[features]))\n",
    "full_Y = pd.concat((train_df['age'], valid_df['age']))\n",
    "model = RandomForestRegressor(n_estimators=100).fit(full_X, full_Y)"
   ]
  },
  {
   "cell_type": "markdown",
   "metadata": {},
   "source": [
    "Save to both the web_api and web_application folders:"
   ]
  },
  {
   "cell_type": "code",
   "execution_count": null,
   "metadata": {},
   "outputs": [],
   "source": []
  }
 ],
 "metadata": {
  "kernelspec": {
   "display_name": "base",
   "language": "python",
   "name": "python3"
  },
  "language_info": {
   "codemirror_mode": {
    "name": "ipython",
    "version": 3
   },
   "file_extension": ".py",
   "mimetype": "text/x-python",
   "name": "python",
   "nbconvert_exporter": "python",
   "pygments_lexer": "ipython3",
   "version": "3.9.13"
  }
 },
 "nbformat": 4,
 "nbformat_minor": 2
}
