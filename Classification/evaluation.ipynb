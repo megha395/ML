{
 "cells": [
  {
   "cell_type": "code",
   "execution_count": 1,
   "metadata": {},
   "outputs": [
    {
     "name": "stdout",
     "output_type": "stream",
     "text": [
      "x_train size: (42, 7)\n",
      "x_test size: (19, 7)\n",
      "y_train size: (42,)\n",
      "y_test size: (19,)\n",
      "Predicted data is: \n",
      " Test data: \n",
      " [[-0.61954413  0.90889326 -0.44311531 -0.73733549 -0.82462113  0.19956972\n",
      "   0.17194428]\n",
      " [-1.60146314 -1.10023921  0.17139366 -1.45752365  1.21267813 -0.86984869\n",
      "  -0.93908032]\n",
      " [-0.74228401  0.90889326 -1.40877227 -0.73733549  1.21267813 -0.37849429\n",
      "  -0.38356802]\n",
      " [ 2.08073313 -1.10023921 -0.61868931  1.42322897 -0.82462113  0.19956972\n",
      "   0.72745659]\n",
      " [ 0.23963499 -1.10023921 -0.00418033 -0.73733549 -0.82462113 -0.00275269\n",
      "   0.31082236]\n",
      " [ 1.58977363 -1.10023921  0.52254164 -0.01714734 -0.82462113  1.21118172\n",
      "   1.42184697]\n",
      " [-0.98776376  0.90889326  0.08360666 -0.73733549  1.21267813 -1.3901063\n",
      "  -1.91122686]\n",
      " [-1.23324351 -1.10023921 -1.23319828 -0.73733549  1.21267813 -1.2455903\n",
      "  -1.49459263]\n",
      " [-1.35598339  0.90889326  1.13705062  0.70304082  1.21267813 -1.04326789\n",
      "  -1.35571455]\n",
      " [ 0.11689512  0.90889326 -1.49655927 -0.73733549 -0.82462113  0.11286012\n",
      "   0.31082236]\n",
      " [ 1.221554   -1.10023921 -0.88205029 -0.01714734 -0.82462113  1.78924573\n",
      "   1.42184697]\n",
      " [-0.86502388 -1.10023921  1.75155959  1.42322897  1.21267813 -0.66752629\n",
      "  -0.80020225]\n",
      " [-0.37406438  0.90889326 -0.44311531 -0.73733549 -0.82462113  0.28627932\n",
      "   0.44970044]\n",
      " [ 1.7125135  -1.10023921 -0.09196733 -0.73733549 -0.82462113  0.77763372\n",
      "   1.00521274]\n",
      " [ 0.85333437 -1.10023921 -0.00418033  1.42322897 -0.82462113  0.19956972\n",
      "   0.44970044]\n",
      " [ 0.48511475 -1.10023921  0.25918066 -0.01714734 -0.82462113  1.35569773\n",
      "   1.28296889]\n",
      " [-0.00584476  0.90889326 -0.26754132  1.42322897 -0.82462113  0.40189212\n",
      "   0.58857851]\n",
      " [ 0.60785462  0.90889326 -0.17975433 -0.01714734 -0.82462113  1.21118172\n",
      "   1.14409082]\n",
      " [-0.86502388 -1.10023921  1.5759856   1.42322897  1.21267813 -0.58081669\n",
      "  -0.5224461 ]] \n",
      " Prediction:  \n",
      " [0 1 0 0 0 0 1 1 1 0 0 1 0 0 0 0 0 0 0]\n"
     ]
    }
   ],
   "source": [
    "from model import *"
   ]
  },
  {
   "cell_type": "code",
   "execution_count": 2,
   "metadata": {},
   "outputs": [
    {
     "name": "stdout",
     "output_type": "stream",
     "text": [
      "Classification Report is: \n",
      "               precision    recall  f1-score   support\n",
      "\n",
      "           0       1.00      0.93      0.97        15\n",
      "           1       0.80      1.00      0.89         4\n",
      "\n",
      "    accuracy                           0.95        19\n",
      "   macro avg       0.90      0.97      0.93        19\n",
      "weighted avg       0.96      0.95      0.95        19\n",
      "\n"
     ]
    }
   ],
   "source": [
    "### Classification Report\n",
    "print(f\"Classification Report is: \\n {classification_report(y_test,y_pred)}\")"
   ]
  },
  {
   "cell_type": "code",
   "execution_count": 3,
   "metadata": {},
   "outputs": [
    {
     "name": "stdout",
     "output_type": "stream",
     "text": [
      "Confusion matrix: \n",
      " [[14  1]\n",
      " [ 0  4]]\n"
     ]
    }
   ],
   "source": [
    "print(f\"Confusion matrix: \\n {confusion_matrix(y_test,y_pred)}\")"
   ]
  },
  {
   "cell_type": "code",
   "execution_count": 4,
   "metadata": {},
   "outputs": [
    {
     "name": "stdout",
     "output_type": "stream",
     "text": [
      "Accuracy of the model: 0.9473684210526315\n"
     ]
    }
   ],
   "source": [
    "print(f\"Accuracy of the model: {accuracy_score(y_test,y_pred)}\")"
   ]
  },
  {
   "cell_type": "code",
   "execution_count": 5,
   "metadata": {},
   "outputs": [
    {
     "name": "stdout",
     "output_type": "stream",
     "text": [
      "Precision of the model: 0.8\n"
     ]
    }
   ],
   "source": [
    "print(f\"Precision of the model: {precision_score(y_test,y_pred)}\")\n"
   ]
  }
 ],
 "metadata": {
  "kernelspec": {
   "display_name": "Python 3",
   "language": "python",
   "name": "python3"
  },
  "language_info": {
   "codemirror_mode": {
    "name": "ipython",
    "version": 3
   },
   "file_extension": ".py",
   "mimetype": "text/x-python",
   "name": "python",
   "nbconvert_exporter": "python",
   "pygments_lexer": "ipython3",
   "version": "3.9.13"
  }
 },
 "nbformat": 4,
 "nbformat_minor": 2
}
